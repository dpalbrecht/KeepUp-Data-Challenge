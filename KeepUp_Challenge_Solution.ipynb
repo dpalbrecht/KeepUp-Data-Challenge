{
 "cells": [
  {
   "cell_type": "markdown",
   "metadata": {},
   "source": [
    "<b>A. (Suggested duration: 90 mins)</b>  \n",
    "With the given data for 548552 products, perform exploratory analysis and make\n",
    "suggestions for further analysis on the following aspects.  \n",
    "  \n",
    "<b>1. Trustworthiness of ratings</b>\n",
    "Ratings are susceptible to manipulation, bias etc. What can you say (quantitatively\n",
    "speaking) about the ratings in this dataset?  "
   ]
  },
  {
   "cell_type": "code",
   "execution_count": 1,
   "metadata": {
    "collapsed": true
   },
   "outputs": [],
   "source": [
    "import pandas as pd\n",
    "import datetime"
   ]
  },
  {
   "cell_type": "markdown",
   "metadata": {},
   "source": [
    "We will begin by reading in the data and parsing it:"
   ]
  },
  {
   "cell_type": "code",
   "execution_count": 2,
   "metadata": {
    "collapsed": true
   },
   "outputs": [],
   "source": [
    "# Read in the data\n",
    "import gzip\n",
    "with gzip.open('amazon-meta.txt.gz', 'rt') as f:\n",
    "    file_content = f.read()\n",
    "f.close()"
   ]
  },
  {
   "cell_type": "code",
   "execution_count": 3,
   "metadata": {},
   "outputs": [
    {
     "data": {
      "text/plain": [
       "[['Id:   0', 'ASIN: 0771044445', '  discontinued product'],\n",
       " ['Id:   1',\n",
       "  'ASIN: 0827229534',\n",
       "  '  title: Patterns of Preaching: A Sermon Sampler',\n",
       "  '  group: Book',\n",
       "  '  salesrank: 396585',\n",
       "  '  similar: 5  0804215715  156101074X  0687023955  0687074231  082721619X',\n",
       "  '  categories: 2',\n",
       "  '   |Books[283155]|Subjects[1000]|Religion & Spirituality[22]|Christianity[12290]|Clergy[12360]|Preaching[12368]',\n",
       "  '   |Books[283155]|Subjects[1000]|Religion & Spirituality[22]|Christianity[12290]|Clergy[12360]|Sermons[12370]',\n",
       "  '  reviews: total: 2  downloaded: 2  avg rating: 5',\n",
       "  '    2000-7-28  cutomer: A2JW67OY8U6HHK  rating: 5  votes:  10  helpful:   9',\n",
       "  '    2003-12-14  cutomer: A2VE83MZF98ITY  rating: 5  votes:   6  helpful:   5']]"
      ]
     },
     "execution_count": 3,
     "metadata": {},
     "output_type": "execute_result"
    }
   ],
   "source": [
    "# Parse and group the data by each product\n",
    "grouped = []\n",
    "add = []\n",
    "\n",
    "for string in file_content.split('\\n')[3:]:\n",
    "    if string != '':\n",
    "        add.append(string)\n",
    "    else:\n",
    "        grouped.append(add)\n",
    "        add = []\n",
    "        \n",
    "grouped[0:2]        "
   ]
  },
  {
   "cell_type": "markdown",
   "metadata": {},
   "source": [
    "We now have an accessible list of items where each item is a unique product in addition to all of its information. With regard to the first question: \"<b>Ratings are susceptible to manipulation, bias etc. What can you say (quantitatively speaking) about the ratings in this dataset?</b>\" We can extract rating info and use a dataframe to determine whether rating information seems to have been manipulated."
   ]
  },
  {
   "cell_type": "code",
   "execution_count": 4,
   "metadata": {},
   "outputs": [
    {
     "data": {
      "text/html": [
       "<div>\n",
       "<style>\n",
       "    .dataframe thead tr:only-child th {\n",
       "        text-align: right;\n",
       "    }\n",
       "\n",
       "    .dataframe thead th {\n",
       "        text-align: left;\n",
       "    }\n",
       "\n",
       "    .dataframe tbody tr th {\n",
       "        vertical-align: top;\n",
       "    }\n",
       "</style>\n",
       "<table border=\"1\" class=\"dataframe\">\n",
       "  <thead>\n",
       "    <tr style=\"text-align: right;\">\n",
       "      <th></th>\n",
       "      <th>id</th>\n",
       "      <th>total</th>\n",
       "      <th>downloaded</th>\n",
       "      <th>avg_rating</th>\n",
       "    </tr>\n",
       "  </thead>\n",
       "  <tbody>\n",
       "    <tr>\n",
       "      <th>1</th>\n",
       "      <td>1</td>\n",
       "      <td>2</td>\n",
       "      <td>2</td>\n",
       "      <td>5.0</td>\n",
       "    </tr>\n",
       "    <tr>\n",
       "      <th>109902</th>\n",
       "      <td>2</td>\n",
       "      <td>12</td>\n",
       "      <td>12</td>\n",
       "      <td>4.5</td>\n",
       "    </tr>\n",
       "    <tr>\n",
       "      <th>219674</th>\n",
       "      <td>3</td>\n",
       "      <td>1</td>\n",
       "      <td>1</td>\n",
       "      <td>5.0</td>\n",
       "    </tr>\n",
       "    <tr>\n",
       "      <th>329477</th>\n",
       "      <td>4</td>\n",
       "      <td>1</td>\n",
       "      <td>1</td>\n",
       "      <td>4.0</td>\n",
       "    </tr>\n",
       "    <tr>\n",
       "      <th>439371</th>\n",
       "      <td>5</td>\n",
       "      <td>0</td>\n",
       "      <td>0</td>\n",
       "      <td>0.0</td>\n",
       "    </tr>\n",
       "  </tbody>\n",
       "</table>\n",
       "</div>"
      ],
      "text/plain": [
       "        id  total  downloaded  avg_rating\n",
       "1        1      2           2         5.0\n",
       "109902   2     12          12         4.5\n",
       "219674   3      1           1         5.0\n",
       "329477   4      1           1         4.0\n",
       "439371   5      0           0         0.0"
      ]
     },
     "execution_count": 4,
     "metadata": {},
     "output_type": "execute_result"
    }
   ],
   "source": [
    "# Extract rating info from each product group into a dataframe\n",
    "rating_dict = {}\n",
    "\n",
    "for group in grouped:\n",
    "    ident, total, downloaded, avg_rating = '', '', '', ''\n",
    "    for item in group:\n",
    "        if item.startswith('Id:'):\n",
    "            ident = item.split()[-1]\n",
    "        elif item.startswith('  reviews:'):\n",
    "            total = item.split()[2]\n",
    "            downloaded = item.split()[4]\n",
    "            avg_rating = item.split()[7]\n",
    "        elif item.startswith('  discontinued product'):\n",
    "            skip = True\n",
    "    if skip == False:\n",
    "        rating_dict[ident] = [total, downloaded, avg_rating]\n",
    "    else:\n",
    "        skip = False\n",
    "    \n",
    "rating_df = pd.DataFrame.from_dict(rating_dict)\n",
    "rating_df = rating_df.T.reset_index(drop=False)\n",
    "rating_df.columns = ['id', 'total', 'downloaded', 'avg_rating']\n",
    "rating_df = rating_df.iloc[1:]\n",
    "rating_df['id']  = rating_df['id'].astype(int)\n",
    "rating_df['total']  = rating_df['total'].astype(int)\n",
    "rating_df['downloaded']  = rating_df['downloaded'].astype(int)\n",
    "rating_df['avg_rating']  = rating_df['avg_rating'].astype(float)\n",
    "rating_df = rating_df.sort_values('id')\n",
    "rating_df.head()"
   ]
  },
  {
   "cell_type": "markdown",
   "metadata": {},
   "source": [
    "We now have a dataframe of rating information. Let's explore it:"
   ]
  },
  {
   "cell_type": "code",
   "execution_count": 5,
   "metadata": {},
   "outputs": [
    {
     "data": {
      "text/html": [
       "<div>\n",
       "<style>\n",
       "    .dataframe thead tr:only-child th {\n",
       "        text-align: right;\n",
       "    }\n",
       "\n",
       "    .dataframe thead th {\n",
       "        text-align: left;\n",
       "    }\n",
       "\n",
       "    .dataframe tbody tr th {\n",
       "        vertical-align: top;\n",
       "    }\n",
       "</style>\n",
       "<table border=\"1\" class=\"dataframe\">\n",
       "  <thead>\n",
       "    <tr style=\"text-align: right;\">\n",
       "      <th></th>\n",
       "      <th>id</th>\n",
       "      <th>total</th>\n",
       "      <th>downloaded</th>\n",
       "      <th>avg_rating</th>\n",
       "    </tr>\n",
       "  </thead>\n",
       "  <tbody>\n",
       "    <tr>\n",
       "      <th>102215</th>\n",
       "      <td>193</td>\n",
       "      <td>261</td>\n",
       "      <td>260</td>\n",
       "      <td>3.0</td>\n",
       "    </tr>\n",
       "    <tr>\n",
       "      <th>292161</th>\n",
       "      <td>366</td>\n",
       "      <td>10</td>\n",
       "      <td>5</td>\n",
       "      <td>4.5</td>\n",
       "    </tr>\n",
       "    <tr>\n",
       "      <th>295451</th>\n",
       "      <td>369</td>\n",
       "      <td>416</td>\n",
       "      <td>5</td>\n",
       "      <td>5.0</td>\n",
       "    </tr>\n",
       "    <tr>\n",
       "      <th>297637</th>\n",
       "      <td>371</td>\n",
       "      <td>416</td>\n",
       "      <td>415</td>\n",
       "      <td>5.0</td>\n",
       "    </tr>\n",
       "    <tr>\n",
       "      <th>300934</th>\n",
       "      <td>374</td>\n",
       "      <td>7</td>\n",
       "      <td>5</td>\n",
       "      <td>3.5</td>\n",
       "    </tr>\n",
       "  </tbody>\n",
       "</table>\n",
       "</div>"
      ],
      "text/plain": [
       "         id  total  downloaded  avg_rating\n",
       "102215  193    261         260         3.0\n",
       "292161  366     10           5         4.5\n",
       "295451  369    416           5         5.0\n",
       "297637  371    416         415         5.0\n",
       "300934  374      7           5         3.5"
      ]
     },
     "execution_count": 5,
     "metadata": {},
     "output_type": "execute_result"
    }
   ],
   "source": [
    "# Are there products with more ratings than downloads?\n",
    "rating_df[rating_df['total'] > rating_df['downloaded']].head()"
   ]
  },
  {
   "cell_type": "code",
   "execution_count": 6,
   "metadata": {},
   "outputs": [
    {
     "name": "stdout",
     "output_type": "stream",
     "text": [
      "There are 8615 products with more ratings than downloads.\n"
     ]
    }
   ],
   "source": [
    "# How many are there?\n",
    "print('There are {} products with more ratings than downloads.'\\\n",
    "          .format(len(rating_df[rating_df['total'] > rating_df['downloaded']])))"
   ]
  },
  {
   "cell_type": "code",
   "execution_count": 7,
   "metadata": {},
   "outputs": [
    {
     "data": {
      "text/html": [
       "<div>\n",
       "<style>\n",
       "    .dataframe thead tr:only-child th {\n",
       "        text-align: right;\n",
       "    }\n",
       "\n",
       "    .dataframe thead th {\n",
       "        text-align: left;\n",
       "    }\n",
       "\n",
       "    .dataframe tbody tr th {\n",
       "        vertical-align: top;\n",
       "    }\n",
       "</style>\n",
       "<table border=\"1\" class=\"dataframe\">\n",
       "  <thead>\n",
       "    <tr style=\"text-align: right;\">\n",
       "      <th></th>\n",
       "      <th>id</th>\n",
       "      <th>total</th>\n",
       "      <th>downloaded</th>\n",
       "      <th>avg_rating</th>\n",
       "      <th>total_downloaded_difference</th>\n",
       "    </tr>\n",
       "  </thead>\n",
       "  <tbody>\n",
       "    <tr>\n",
       "      <th>52948</th>\n",
       "      <td>148185</td>\n",
       "      <td>5034</td>\n",
       "      <td>5</td>\n",
       "      <td>5.0</td>\n",
       "      <td>5029</td>\n",
       "    </tr>\n",
       "    <tr>\n",
       "      <th>542125</th>\n",
       "      <td>99487</td>\n",
       "      <td>5033</td>\n",
       "      <td>5</td>\n",
       "      <td>5.0</td>\n",
       "      <td>5028</td>\n",
       "    </tr>\n",
       "    <tr>\n",
       "      <th>31510</th>\n",
       "      <td>128673</td>\n",
       "      <td>4922</td>\n",
       "      <td>5</td>\n",
       "      <td>5.0</td>\n",
       "      <td>4917</td>\n",
       "    </tr>\n",
       "    <tr>\n",
       "      <th>307144</th>\n",
       "      <td>379661</td>\n",
       "      <td>2925</td>\n",
       "      <td>5</td>\n",
       "      <td>4.5</td>\n",
       "      <td>2920</td>\n",
       "    </tr>\n",
       "    <tr>\n",
       "      <th>166426</th>\n",
       "      <td>251503</td>\n",
       "      <td>2925</td>\n",
       "      <td>5</td>\n",
       "      <td>4.5</td>\n",
       "      <td>2920</td>\n",
       "    </tr>\n",
       "  </tbody>\n",
       "</table>\n",
       "</div>"
      ],
      "text/plain": [
       "            id  total  downloaded  avg_rating  total_downloaded_difference\n",
       "52948   148185   5034           5         5.0                         5029\n",
       "542125   99487   5033           5         5.0                         5028\n",
       "31510   128673   4922           5         5.0                         4917\n",
       "307144  379661   2925           5         4.5                         2920\n",
       "166426  251503   2925           5         4.5                         2920"
      ]
     },
     "execution_count": 7,
     "metadata": {},
     "output_type": "execute_result"
    }
   ],
   "source": [
    "# Take a look at the range of values\n",
    "rating_df['total_downloaded_difference'] = rating_df['total'] - rating_df['downloaded']\n",
    "rating_df = rating_df.sort_values('total_downloaded_difference', ascending=False)\n",
    "rating_df.head()"
   ]
  },
  {
   "cell_type": "code",
   "execution_count": 8,
   "metadata": {},
   "outputs": [
    {
     "name": "stdout",
     "output_type": "stream",
     "text": [
      "There are 3 products with more than 4000 reviews greater than the number of downloads.\n",
      "There are 12 products with more than 2000 reviews greater than the number of downloads.\n",
      "There are 28 products with more than 1000 reviews greater than the number of downloads.\n",
      "There are 56 products with more than 500 reviews greater than the number of downloads.\n",
      "There are 300 products with more than 100 reviews greater than the number of downloads.\n",
      "There are 549 products with more than 50 reviews greater than the number of downloads.\n",
      "There are 1674 products with more than 10 reviews greater than the number of downloads.\n",
      "There are 4512 products with more than 1 reviews greater than the number of downloads.\n",
      "There are 8615 products with 1 or more reviews greater than the number of downloads.\n"
     ]
    }
   ],
   "source": [
    "# What can we say about the range of values where total is greater than downloaded?\n",
    "\n",
    "len_list = [4000,2000,1000,500,100,50,10,1]\n",
    "\n",
    "for i in len_list:\n",
    "    print('There are {} products with more than {} reviews greater than the number of downloads.'\\\n",
    "              .format(len(rating_df[rating_df['total_downloaded_difference'] > i]), i))\n",
    "    if i == 1:\n",
    "        print('There are {} products with {} or more reviews greater than the number of downloads.'\\\n",
    "                  .format(len(rating_df[rating_df['total_downloaded_difference'] >= i]), i))"
   ]
  },
  {
   "cell_type": "markdown",
   "metadata": {},
   "source": [
    "As we can see above, some products have a rather unusual amount of ratings compared to the number of product downloads, which could signify ratings manipulation. It is acceptable to see a certain level of ratings more than the number of downloads (taking into account unverified Amazon reviews), but I believe we are seeing more than an acceptable level."
   ]
  },
  {
   "cell_type": "markdown",
   "metadata": {},
   "source": [
    "<b>2. Category bloat</b>\n",
    "Consider the product group named 'Books'. Each product in this group is associated with\n",
    "categories. Naturally, with categorization, there are tradeoffs between how broad or\n",
    "specific the categories must be.  \n",
    "  \n",
    "For this dataset, quantify the following:  \n",
    "a. Is there redundancy in the categorization? How can it be identified/removed?  \n",
    "b. Is it possible to reduce the number of categories drastically (say to 10% of existing categories) by sacrificing relatively few category entries (say close to 10%)?"
   ]
  },
  {
   "cell_type": "code",
   "execution_count": 9,
   "metadata": {},
   "outputs": [
    {
     "data": {
      "text/plain": [
       "[['Id:   0', 'ASIN: 0771044445', '  discontinued product'],\n",
       " ['Id:   1',\n",
       "  'ASIN: 0827229534',\n",
       "  '  title: Patterns of Preaching: A Sermon Sampler',\n",
       "  '  group: Book',\n",
       "  '  salesrank: 396585',\n",
       "  '  similar: 5  0804215715  156101074X  0687023955  0687074231  082721619X',\n",
       "  '  categories: 2',\n",
       "  '   |Books[283155]|Subjects[1000]|Religion & Spirituality[22]|Christianity[12290]|Clergy[12360]|Preaching[12368]',\n",
       "  '   |Books[283155]|Subjects[1000]|Religion & Spirituality[22]|Christianity[12290]|Clergy[12360]|Sermons[12370]',\n",
       "  '  reviews: total: 2  downloaded: 2  avg rating: 5',\n",
       "  '    2000-7-28  cutomer: A2JW67OY8U6HHK  rating: 5  votes:  10  helpful:   9',\n",
       "  '    2003-12-14  cutomer: A2VE83MZF98ITY  rating: 5  votes:   6  helpful:   5']]"
      ]
     },
     "execution_count": 9,
     "metadata": {},
     "output_type": "execute_result"
    }
   ],
   "source": [
    "# Lets look at the grouped data again: Is there redundancy?\n",
    "grouped[0:2]"
   ]
  },
  {
   "cell_type": "markdown",
   "metadata": {},
   "source": [
    "It is clear that books with more than one category show serious amounts of redundancy in the first few layers of categorizations. Let's dig deeper:"
   ]
  },
  {
   "cell_type": "code",
   "execution_count": 10,
   "metadata": {},
   "outputs": [
    {
     "name": "stdout",
     "output_type": "stream",
     "text": [
      "There are 393561 total books.\n",
      "There are 1440329 total category branches across all books.\n",
      "There are 12853 unique category branches across all books.\n"
     ]
    }
   ],
   "source": [
    "# Extract category info from each book into a list\n",
    "category_list = []\n",
    "book_count = 0\n",
    "\n",
    "for group in grouped:\n",
    "    prod_type = ''\n",
    "    for item in group:\n",
    "        if item.startswith('  group:'):\n",
    "            prod_type = item.split()[-1]\n",
    "        if prod_type == 'Book':\n",
    "            if item.startswith('   |'):\n",
    "                category_list.append(item.strip())\n",
    "    if prod_type == 'Book':\n",
    "        book_count += 1\n",
    "            \n",
    "print('There are {} total books.'.format(book_count))\n",
    "print('There are {} total category branches across all books.'.format(len(category_list)))\n",
    "print('There are {} unique category branches across all books.'.format(len(set(category_list))))"
   ]
  },
  {
   "cell_type": "code",
   "execution_count": 11,
   "metadata": {},
   "outputs": [
    {
     "name": "stdout",
     "output_type": "stream",
     "text": [
      "There are 7891047 total sub-categories across all books.\n",
      "There are 14923 unique sub-categories across all books.\n"
     ]
    }
   ],
   "source": [
    "# How many sub-categories are there?\n",
    "sub_category_list = []\n",
    "for branch in category_list:\n",
    "    for sub_cat in branch.split('|')[1:]:\n",
    "        sub_category_list.append(sub_cat)\n",
    "        \n",
    "print('There are {} total sub-categories across all books.'.format(len(sub_category_list)))\n",
    "print('There are {} unique sub-categories across all books.'.format(len(set(sub_category_list))))"
   ]
  },
  {
   "cell_type": "code",
   "execution_count": 12,
   "metadata": {},
   "outputs": [
    {
     "data": {
      "text/plain": [
       "['Books[283155]',\n",
       " 'Subjects[1000]',\n",
       " 'Religion & Spirituality[22]',\n",
       " 'Christianity[12290]',\n",
       " 'Clergy[12360]']"
      ]
     },
     "execution_count": 12,
     "metadata": {},
     "output_type": "execute_result"
    }
   ],
   "source": [
    "# Show examples of sub-categories\n",
    "sub_category_list[0:5]"
   ]
  },
  {
   "cell_type": "code",
   "execution_count": 13,
   "metadata": {},
   "outputs": [
    {
     "data": {
      "text/html": [
       "<div>\n",
       "<style>\n",
       "    .dataframe thead tr:only-child th {\n",
       "        text-align: right;\n",
       "    }\n",
       "\n",
       "    .dataframe thead th {\n",
       "        text-align: left;\n",
       "    }\n",
       "\n",
       "    .dataframe tbody tr th {\n",
       "        vertical-align: top;\n",
       "    }\n",
       "</style>\n",
       "<table border=\"1\" class=\"dataframe\">\n",
       "  <thead>\n",
       "    <tr style=\"text-align: right;\">\n",
       "      <th></th>\n",
       "      <th>index</th>\n",
       "      <th>0</th>\n",
       "    </tr>\n",
       "  </thead>\n",
       "  <tbody>\n",
       "    <tr>\n",
       "      <th>11993</th>\n",
       "      <td>Books[283155]</td>\n",
       "      <td>1286848</td>\n",
       "    </tr>\n",
       "    <tr>\n",
       "      <th>13033</th>\n",
       "      <td>Subjects[1000]</td>\n",
       "      <td>1222638</td>\n",
       "    </tr>\n",
       "    <tr>\n",
       "      <th>8500</th>\n",
       "      <td>Children's Books[4]</td>\n",
       "      <td>134263</td>\n",
       "    </tr>\n",
       "    <tr>\n",
       "      <th>5409</th>\n",
       "      <td>Amazon.com Stores[285080]</td>\n",
       "      <td>123925</td>\n",
       "    </tr>\n",
       "    <tr>\n",
       "      <th>1224</th>\n",
       "      <td>[265523]</td>\n",
       "      <td>123925</td>\n",
       "    </tr>\n",
       "  </tbody>\n",
       "</table>\n",
       "</div>"
      ],
      "text/plain": [
       "                           index        0\n",
       "11993              Books[283155]  1286848\n",
       "13033             Subjects[1000]  1222638\n",
       "8500         Children's Books[4]   134263\n",
       "5409   Amazon.com Stores[285080]   123925\n",
       "1224                    [265523]   123925"
      ]
     },
     "execution_count": 13,
     "metadata": {},
     "output_type": "execute_result"
    }
   ],
   "source": [
    "# Create a dataframe to show sub-category counts\n",
    "from collections import Counter\n",
    "\n",
    "cat_counted = pd.DataFrame.from_dict(Counter(sub_category_list), orient='index').reset_index()\n",
    "cat_counted = cat_counted.sort_values(0, ascending=False)\n",
    "cat_counted.head()"
   ]
  },
  {
   "cell_type": "markdown",
   "metadata": {},
   "source": [
    "If we target the most common sub-categories across all books (and assume that this does not harm the searching structure too much) and aim to drop them in favor of the more specific sub-categories, perhaps we can reduce the number of unique sub-categories by 90% by dropping 10% of sub-categories:"
   ]
  },
  {
   "cell_type": "code",
   "execution_count": 14,
   "metadata": {},
   "outputs": [
    {
     "name": "stdout",
     "output_type": "stream",
     "text": [
      "The first 9.38% of largest sub-category titles makes up 90.04% of the sub-category volume.\n"
     ]
    }
   ],
   "source": [
    "# Determine what percent of category appearances is the top 10% of sub-category titles\n",
    "print('The first {:.2f}% of largest sub-category titles makes up {:.2f}% of the sub-category volume.'\\\n",
    "          .format((len(cat_counted.iloc[0:1400])/len(cat_counted))*100, \n",
    "                  cat_counted.iloc[0:1400][0].sum()/cat_counted[0].sum()*100))"
   ]
  },
  {
   "cell_type": "markdown",
   "metadata": {},
   "source": [
    "According to our analysis, we can reduce the number of sub-category titles by 90% by removing the top 10% of most occuring sub-category titles."
   ]
  },
  {
   "cell_type": "markdown",
   "metadata": {},
   "source": [
    "<b>B. (Suggested duration: 30 mins)</b>  \n",
    "Give the number crunching a rest! Just think about these problems.  \n",
    "  \n",
    "<b>1. Algorithm thinking</b>  \n",
    "How would you build the product categorization from scratch, using similar/co-purchased\n",
    "information?  \n",
    "  \n",
    "<b>2. Product thinking</b>  \n",
    "Now, put on your 'product thinking' hat:  \n",
    "a. Is it a good idea to show users the categorization hierarchy for items?  \n",
    "b. Is it a good idea to show users similar/co-purchased items?  \n",
    "c. Is it a good idea to show users reviews and ratings for items?  \n",
    "d. For each of the above, why? How will you establish the same?  "
   ]
  },
  {
   "cell_type": "markdown",
   "metadata": {},
   "source": [
    "In terms of creating product categorization from scratch, we could perform clustering based on vectors of co-purchased information to determine how many groups of products exist. From these groups of products we could compute cluster statistics and create product categories based on those statistics.  \n",
    "  \n",
    "It is not a good idea to show users too much of the categorization hierarchy. Too much information causes overload and is distracting. Some hierarchy is useful, however, so that users can navigate the site more directly.  \n",
    "  \n",
    "It is a good idea to show users similar/co-purchased items as long as it is not the main focus of the page. Since these items are frequently bought by others along with the main item of interest, the user may likely need those additional items. Even if the user is not looking for those additional items, he/she may realize that they are needed and choose to buy them in that moment.\n",
    "  \n",
    "It is a good idea to show users reviews and ratings for the items they are searching for since it serves as external, unbiased validation for new customers that those products are reliable. In addition, it provides a community for users that builds trust among users and with the site itself."
   ]
  }
 ],
 "metadata": {
  "kernelspec": {
   "display_name": "Python 3",
   "language": "python",
   "name": "python3"
  },
  "language_info": {
   "codemirror_mode": {
    "name": "ipython",
    "version": 3
   },
   "file_extension": ".py",
   "mimetype": "text/x-python",
   "name": "python",
   "nbconvert_exporter": "python",
   "pygments_lexer": "ipython3",
   "version": "3.5.2"
  }
 },
 "nbformat": 4,
 "nbformat_minor": 2
}
